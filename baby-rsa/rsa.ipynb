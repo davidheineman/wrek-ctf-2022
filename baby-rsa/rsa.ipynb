{
 "cells": [
  {
   "cell_type": "code",
   "execution_count": 123,
   "metadata": {},
   "outputs": [
    {
     "data": {
      "text/plain": [
       "'Test String!'"
      ]
     },
     "execution_count": 123,
     "metadata": {},
     "output_type": "execute_result"
    }
   ],
   "source": [
    "from Crypto.Util.number import long_to_bytes\n",
    "\n",
    "encoded = bytes_to_long('Test String!'.encode())\n",
    "long_to_bytes(encoded).decode()"
   ]
  },
  {
   "cell_type": "code",
   "execution_count": 11,
   "metadata": {},
   "outputs": [
    {
     "name": "stdout",
     "output_type": "stream",
     "text": [
      "1\n",
      "n = 16967030524502117214404100938261512382476151014953810086457458506775561699741027177109475539121211529814684487395199133801638599985180955338495989569340540376124807821943573280630324881818066744507564756665127210459332444920606486994072129710858139496303833832240535648836812837435101898107375109591298448865096896766383411711200824664445664678845771535439939206180644815510852117001857835603778955859253603587494892843836213881773638034262614536999861164857385629363907454894250540295882187971147536166744476224735521763298209764627356686320122210736490192602850501326898433744416186683178097463922613678659551708913\n",
      "p = 112938170774939578216646572395872887695843784155521810581759026139441777082668981414130841110435151229821393412015735096194165993689242885701364849407355608664777621193747399866798831020509285147859127962346645901944198309670340274589989755553987121054384691648307853338777947729704797783621352987968380404953\n",
      "c = 3368698370223657437363956246409070827533162506001921259102069828983434755863382284430154276267297409790119872670804781112016305330950073801884911157804546010154111795543704170801587831489566486566469051334021190261635984576008739988870135676555037073260283576557781498330505383655344806353896492051402660556261952019042918816172190224923806908316787952447009744475852130517418559365436552563392957767628839691411633880727219556601643606771975372751803686173396627207883779445464569870767142834865744494453087393160416188615150825879908393020074220980283645462336483624972560418501642296980186442041991775924025176517\n"
     ]
    },
    {
     "data": {
      "text/plain": [
       "b'flag{omg_its_rsa}'"
      ]
     },
     "execution_count": 11,
     "metadata": {},
     "output_type": "execute_result"
    }
   ],
   "source": [
    "import os\n",
    "import math\n",
    "from Crypto.Util.number import bytes_to_long, long_to_bytes\n",
    "from Crypto.Util.number import getPrime\n",
    "\n",
    "flag = os.environ.get('FLAG', 'flag{this_is_a_fake_flag}')\n",
    "flag = \"test string\"\n",
    "flag = bytes_to_long(flag.encode())\n",
    "\n",
    "# Returns two random prime numbers between [0, 2^1024]\n",
    "# p = getPrime(1024)\n",
    "# q = getPrime(1024)\n",
    "# n = p * q\n",
    "# e = 65537 \n",
    "# c = pow(flag, e, n)\n",
    "\n",
    "# e = (2 ** 16) + 1\n",
    "# q = int(n/p)\n",
    "# c = [encoded flag] ^ ((2 ** 16) + 1) mod n\n",
    "\n",
    "q = int(n//p) # not enough precision to work\n",
    "\n",
    "# Calculate the lambda coeff\n",
    "lamb = math.lcm(p-1, q-1)\n",
    "\n",
    "# Calculate d, the modular multiplicative inverse of e\n",
    "mmi = pow(e, -1, lamb)\n",
    "\n",
    "# Check it's correct (should be 1)\n",
    "print((e*mmi) % lamb)\n",
    "\n",
    "# Convert answer to bytes\n",
    "answer = long_to_bytes(pow(c, mmi, n))\n",
    "\n",
    "print(f'n = {n}')\n",
    "print(f'p = {p}')\n",
    "print(f'c = {c}')\n",
    "\n",
    "answer\n"
   ]
  },
  {
   "cell_type": "code",
   "execution_count": null,
   "metadata": {},
   "outputs": [],
   "source": [
    "# The challenge: Use p to find q, or p to find the lambda coefficient"
   ]
  },
  {
   "cell_type": "code",
   "execution_count": 7,
   "metadata": {},
   "outputs": [
    {
     "data": {
      "text/plain": [
       "177754115441286061144447539801099542381587802302301694857378644649226699503969595378668809315251845460083981895444074783443224725642524827589382949315911583877943477910813037830095566706227304587069446750104528716717232258491072867915217024978039453258815159501406102192387153923056178041447538431777840923051"
      ]
     },
     "execution_count": 7,
     "metadata": {},
     "output_type": "execute_result"
    }
   ],
   "source": [
    "q"
   ]
  },
  {
   "cell_type": "code",
   "execution_count": 4,
   "metadata": {},
   "outputs": [
    {
     "data": {
      "text/plain": [
       "617"
      ]
     },
     "execution_count": 4,
     "metadata": {},
     "output_type": "execute_result"
    }
   ],
   "source": [
    "len(str(n))"
   ]
  },
  {
   "cell_type": "code",
   "execution_count": 8,
   "metadata": {},
   "outputs": [
    {
     "data": {
      "text/plain": [
       "177754115441286061144447539801099542381587802302301694857378644649226699503969595378668809315251845460083981895444074783443224725642524827589382949315911583877943477910813037830095566706227304587069446750104528716717232258491072867915217024978039453258815159501406102192387153923056178041447538431777840923051"
      ]
     },
     "execution_count": 8,
     "metadata": {},
     "output_type": "execute_result"
    }
   ],
   "source": [
    "guess = int(n//p)\n",
    "guess"
   ]
  },
  {
   "cell_type": "code",
   "execution_count": 9,
   "metadata": {},
   "outputs": [
    {
     "data": {
      "text/plain": [
       "0"
      ]
     },
     "execution_count": 9,
     "metadata": {},
     "output_type": "execute_result"
    }
   ],
   "source": [
    "guess - q"
   ]
  },
  {
   "cell_type": "code",
   "execution_count": 92,
   "metadata": {},
   "outputs": [
    {
     "data": {
      "text/plain": [
       "0"
      ]
     },
     "execution_count": 92,
     "metadata": {},
     "output_type": "execute_result"
    }
   ],
   "source": [
    "n % q"
   ]
  },
  {
   "cell_type": "code",
   "execution_count": 93,
   "metadata": {},
   "outputs": [
    {
     "data": {
      "text/plain": [
       "26011463491603301800286288091572069250220148174430485130345101071948006563053527089719803717085492012542157279631692654725114954267530287615223948601084270278608327514403610274091045611607852313387263861304300908911332837730873612040748483932060799129589319323018510482544813859220210290119180372860593905721"
      ]
     },
     "execution_count": 93,
     "metadata": {},
     "output_type": "execute_result"
    }
   ],
   "source": [
    "diff = n % guess\n",
    "diff"
   ]
  },
  {
   "cell_type": "code",
   "execution_count": 94,
   "metadata": {},
   "outputs": [
    {
     "data": {
      "text/plain": [
       "67630251490357980973528201301558502334893637769495891025723739622559720979236491907911474861510082438570308978512757400476860030445560099977200904536932030654526890384495850075601053360645668330046346306258804484279484856176234341791528448458657953684318356886259151701406910733335196339856949210157553934279"
      ]
     },
     "execution_count": 94,
     "metadata": {},
     "output_type": "execute_result"
    }
   ],
   "source": [
    "guess - diff"
   ]
  },
  {
   "cell_type": "code",
   "execution_count": 61,
   "metadata": {},
   "outputs": [],
   "source": [
    "from decimal import *\n",
    "import math\n",
    "\n",
    "getcontext().prec = 30\n",
    "num = Decimal(n) / Decimal(p)"
   ]
  },
  {
   "cell_type": "code",
   "execution_count": 57,
   "metadata": {},
   "outputs": [
    {
     "ename": "NameError",
     "evalue": "name 'long' is not defined",
     "output_type": "error",
     "traceback": [
      "\u001b[1;31m---------------------------------------------------------------------------\u001b[0m",
      "\u001b[1;31mNameError\u001b[0m                                 Traceback (most recent call last)",
      "\u001b[1;32m<ipython-input-57-35678fae4b4d>\u001b[0m in \u001b[0;36m<module>\u001b[1;34m\u001b[0m\n\u001b[1;32m----> 1\u001b[1;33m \u001b[0mlong\u001b[0m\u001b[1;33m(\u001b[0m\u001b[1;36m1\u001b[0m\u001b[1;33m)\u001b[0m\u001b[1;33m\u001b[0m\u001b[1;33m\u001b[0m\u001b[0m\n\u001b[0m",
      "\u001b[1;31mNameError\u001b[0m: name 'long' is not defined"
     ]
    }
   ],
   "source": [
    "long(1)"
   ]
  },
  {
   "cell_type": "code",
   "execution_count": 22,
   "metadata": {},
   "outputs": [
    {
     "data": {
      "text/plain": [
       "False"
      ]
     },
     "execution_count": 22,
     "metadata": {},
     "output_type": "execute_result"
    }
   ],
   "source": [
    "import sympy\n",
    "sympy.isprime(int(n/p)-1)"
   ]
  },
  {
   "cell_type": "code",
   "execution_count": 2,
   "metadata": {},
   "outputs": [],
   "source": [
    "import math"
   ]
  },
  {
   "cell_type": "code",
   "execution_count": 10,
   "metadata": {},
   "outputs": [],
   "source": [
    "n = 16967030524502117214404100938261512382476151014953810086457458506775561699741027177109475539121211529814684487395199133801638599985180955338495989569340540376124807821943573280630324881818066744507564756665127210459332444920606486994072129710858139496303833832240535648836812837435101898107375109591298448865096896766383411711200824664445664678845771535439939206180644815510852117001857835603778955859253603587494892843836213881773638034262614536999861164857385629363907454894250540295882187971147536166744476224735521763298209764627356686320122210736490192602850501326898433744416186683178097463922613678659551708913\n",
    "p = 112938170774939578216646572395872887695843784155521810581759026139441777082668981414130841110435151229821393412015735096194165993689242885701364849407355608664777621193747399866798831020509285147859127962346645901944198309670340274589989755553987121054384691648307853338777947729704797783621352987968380404953\n",
    "c = 3368698370223657437363956246409070827533162506001921259102069828983434755863382284430154276267297409790119872670804781112016305330950073801884911157804546010154111795543704170801587831489566486566469051334021190261635984576008739988870135676555037073260283576557781498330505383655344806353896492051402660556261952019042918816172190224923806908316787952447009744475852130517418559365436552563392957767628839691411633880727219556601643606771975372751803686173396627207883779445464569870767142834865744494453087393160416188615150825879908393020074220980283645462336483624972560418501642296980186442041991775924025176517\n",
    "e = 65537 "
   ]
  },
  {
   "cell_type": "code",
   "execution_count": null,
   "metadata": {},
   "outputs": [],
   "source": [
    "# Calculate q\n",
    "q = int(n/p)\n",
    "p*int(n/p) == n"
   ]
  },
  {
   "cell_type": "code",
   "execution_count": 149,
   "metadata": {},
   "outputs": [
    {
     "name": "stdout",
     "output_type": "stream",
     "text": [
      "1\n",
      "b'Q\\xfa\\x16\\x1bH\\xf6I\\xa2\\xd6\\x95_\\x80\\xa6\\xa3\\x90\\xca\\x9b\\xcd\\x9a\\xe7\\x1b\\xd60\\x9a\\rxa\\xe2\\xbb\\x9c\\xab\\x16\\x8cjq\\xbc\\xb1\\x9cu\\xa9\\xcc\\xe9\\xceZ\\x93\\xb4\\xa4\\xe5Kj\\x94\\x96>\\xfa8g\\x9e%a\\r\\xf1.\\x0f6\\x7f\\x87S\"\\xed\\xae\\xacU\\xe9\\x1e\\xe9\\x00\\xc0~\\x08k\\xb74\\xa00\\x9a.\\x15\\xc4\\x8a\\x0c\\x8d\\xfa\"\\xd3y\\xe9\\xc2f\\xed\\x0b\\x7f\\xde\\xd8\\xc5,@\\x19\\xca\\x93\\xceff|\\x12j8\\x95o\\xe6\\xce`]\\xe89r\\xb8\\xc3\\xd7\\xd9\\x01L1Me\\x00\\xd5\\x88\\x86Hs\\xd6H\\xad\\xfc\\xc48\\xb0\\xa2-\\x0c ^\\xaa\\x94Dy\\x92?\\x1b\\x965W\\x81q1Iyc\\xe3\\xdd\\x95dz\\x8fq\\x9d?\\x93\\x80\\xb6AI \\x0bhp\\xd5\\xa81\\x1e\\xdc\\xcc\\x1d\\x9c5\\x0f]\\x05\\xa8\\x8c\\xe4\\xb5/\\x97\\x14\\xdec\\xe6d\\xf3\\xe9^e\\x0b\\xe9\\xbc\\xaclhK\\xaa\\xe6^JWr\\x97\\xd7o\\xd7\\xf7az\\xf0\\x8a\\xfem\\x0f\\xe9\\xaf\\xe4\\xa9\\x91aq\\x0c\\xa5\\x1a\\x18\\xda$#e\\x03+\\xe4'\n"
     ]
    },
    {
     "ename": "UnicodeDecodeError",
     "evalue": "'utf-8' codec can't decode byte 0xfa in position 1: invalid start byte",
     "output_type": "error",
     "traceback": [
      "\u001b[1;31m---------------------------------------------------------------------------\u001b[0m",
      "\u001b[1;31mUnicodeDecodeError\u001b[0m                        Traceback (most recent call last)",
      "\u001b[1;32m<ipython-input-149-9368965d6106>\u001b[0m in \u001b[0;36m<module>\u001b[1;34m\u001b[0m\n\u001b[0;32m     14\u001b[0m \u001b[0manswer\u001b[0m \u001b[1;33m=\u001b[0m \u001b[0mlong_to_bytes\u001b[0m\u001b[1;33m(\u001b[0m\u001b[0mpow\u001b[0m\u001b[1;33m(\u001b[0m\u001b[0mc\u001b[0m\u001b[1;33m,\u001b[0m \u001b[0mmmi\u001b[0m\u001b[1;33m,\u001b[0m \u001b[0mn\u001b[0m\u001b[1;33m)\u001b[0m\u001b[1;33m)\u001b[0m\u001b[1;33m\u001b[0m\u001b[1;33m\u001b[0m\u001b[0m\n\u001b[0;32m     15\u001b[0m \u001b[0mprint\u001b[0m\u001b[1;33m(\u001b[0m\u001b[0manswer\u001b[0m\u001b[1;33m)\u001b[0m\u001b[1;33m\u001b[0m\u001b[1;33m\u001b[0m\u001b[0m\n\u001b[1;32m---> 16\u001b[1;33m \u001b[0manswer\u001b[0m\u001b[1;33m.\u001b[0m\u001b[0mdecode\u001b[0m\u001b[1;33m(\u001b[0m\u001b[1;33m)\u001b[0m\u001b[1;33m\u001b[0m\u001b[1;33m\u001b[0m\u001b[0m\n\u001b[0m",
      "\u001b[1;31mUnicodeDecodeError\u001b[0m: 'utf-8' codec can't decode byte 0xfa in position 1: invalid start byte"
     ]
    }
   ],
   "source": [
    "\n",
    "\n",
    "# Calculate the lambda coeff\n",
    "lamb = math.lcm(p-1, q-1)\n",
    "\n",
    "# Calculate d, the modular multiplicative inverse of e\n",
    "mmi = pow(e, -1, lamb)\n",
    "\n",
    "# Check it's correct (should be 1)\n",
    "print((e*mmi) % lamb)\n",
    "\n",
    "# Convert answer to bytes\n",
    "answer = long_to_bytes(pow(c, mmi, n))\n",
    "print(answer)\n",
    "answer.decode()"
   ]
  }
 ],
 "metadata": {
  "kernelspec": {
   "display_name": "Python 3.9.0 64-bit",
   "language": "python",
   "name": "python3"
  },
  "language_info": {
   "codemirror_mode": {
    "name": "ipython",
    "version": 3
   },
   "file_extension": ".py",
   "mimetype": "text/x-python",
   "name": "python",
   "nbconvert_exporter": "python",
   "pygments_lexer": "ipython3",
   "version": "3.9.0"
  },
  "orig_nbformat": 4,
  "vscode": {
   "interpreter": {
    "hash": "81794d4967e6c3204c66dcd87b604927b115b27c00565d3d43f05ba2f3a2cb0d"
   }
  }
 },
 "nbformat": 4,
 "nbformat_minor": 2
}
